{
 "cells": [
  {
   "cell_type": "code",
   "execution_count": 1,
   "id": "1b007bf9-5739-4c81-aed3-2513c3ded80e",
   "metadata": {},
   "outputs": [],
   "source": [
    "import numpy as np\n",
    "import matplotlib.pyplot as plt"
   ]
  },
  {
   "cell_type": "markdown",
   "id": "9a68f48f-6ac1-4d58-8f5d-b7dcbf1af5ba",
   "metadata": {},
   "source": [
    "# Padding"
   ]
  },
  {
   "cell_type": "code",
   "execution_count": 2,
   "id": "fa71817b-30a2-49e1-946e-5d6cf2720de2",
   "metadata": {},
   "outputs": [],
   "source": [
    "def pad_with_zeros(X, n_pads):\n",
    "    \"\"\"\n",
    "    Argument:\n",
    "    X -- python numpy array of shape (m, n_H, n_W, n_C) representing a batch of m images\n",
    "    n_pads -- integer, amount of padding around each image on vertical and horizontal dimensions\n",
    "    \n",
    "    Returns:\n",
    "    X_padded -- padded image of shape (m, n_H + 2 * n_pads, n_W + 2 * n_pads, n_C)\n",
    "    \"\"\"\n",
    "\n",
    "    X_padded = np.pad(X, ((0,0), (n_pads,n_pads), (n_pads,n_pads), (0,0)), mode='constant', constant_values = (0,0))\n",
    "    return X_padded"
   ]
  },
  {
   "cell_type": "code",
   "execution_count": 3,
   "id": "bb864039-bfbd-4f43-a211-c43ba55ff5f7",
   "metadata": {},
   "outputs": [
    {
     "name": "stdout",
     "output_type": "stream",
     "text": [
      "x.shape = (1, 3, 3, 3)\n",
      "x_padded.shape = (1, 9, 9, 3)\n"
     ]
    },
    {
     "data": {
      "image/png": "[encoded data removed]",
      "text/plain": [
       "<Figure size 1200x800 with 6 Axes>"
      ]
     },
     "metadata": {},
     "output_type": "display_data"
    }
   ],
   "source": [
    "x = np.random.rand(1, 3, 3, 3)\n",
    "x = (x - np.min(x)) / (np.max(x) - np.min(x))\n",
    "x_padded = pad_with_zeros(x, n_pads=3)\n",
    "\n",
    "print('x.shape =', x.shape)\n",
    "print('x_padded.shape =', x_padded.shape)\n",
    "\n",
    "fig, axes = plt.subplots(1, 6, figsize=(12, 8))\n",
    "axes = axes.flatten()  # Flatten the 2D array of axes\n",
    "\n",
    "for i in range(3):\n",
    "    axes[i*2].set_title(f'x - channel {i+1}')\n",
    "    axes[i*2].imshow(x[0, :, :, i], cmap='gray', vmin=0, vmax=1)\n",
    "    \n",
    "    axes[i*2+1].set_title(f'x_pad - channel {i+1}')\n",
    "    axes[i*2+1].imshow(x_padded[0, :, :, i], cmap='gray', vmin=0, vmax=1)\n",
    "\n",
    "plt.tight_layout()\n",
    "plt.show()"
   ]
  },
  {
   "cell_type": "markdown",
   "id": "e8d9ac4a-fdc1-4e1f-aedb-da03e6dac19b",
   "metadata": {},
   "source": [
    "# Forward Pass of Conv_Layer"
   ]
  },
  {
   "cell_type": "code",
   "execution_count": 4,
   "id": "f295437e-3333-4a55-b311-d801466df3ce",
   "metadata": {},
   "outputs": [],
   "source": [
    "def convolute(a_sliced_prev, w, b):\n",
    "    \"\"\"\n",
    "    Arguments:\n",
    "    a_sliced_prev -- slice of input data of shape (f, f, n_C_prev)\n",
    "    w -- Weights in a window - matrix of shape (f, f, n_C_prev)\n",
    "    b -- Bias in a window - matrix of shape (1, 1, 1)\n",
    "    \n",
    "    Returns:\n",
    "    z -- a scalar value, the result of convolving the sliding window (W, b) on a slice x of the input data\n",
    "    \"\"\"\n",
    "\n",
    "    z = np.sum(a_sliced_prev * w) + b.item()  # Extract the scalar value from the array b\n",
    "    return z"
   ]
  },
  {
   "cell_type": "code",
   "execution_count": 5,
   "id": "b5a8c130-a283-4689-bbac-6d169419a13f",
   "metadata": {},
   "outputs": [
    {
     "name": "stdout",
     "output_type": "stream",
     "text": [
      "Z = -6.999089450680221\n"
     ]
    }
   ],
   "source": [
    "np.random.seed(1)\n",
    "a_slice_prev = np.random.randn(4, 4, 3)\n",
    "w = np.random.randn(4, 4, 3)\n",
    "b = np.random.randn(1, 1, 1)\n",
    "\n",
    "z = convolute(a_slice_prev, w, b)\n",
    "print(\"Z =\", z)"
   ]
  },
  {
   "cell_type": "markdown",
   "id": "bc12548b-a5d8-4705-bb7c-c2caef08140b",
   "metadata": {},
   "source": [
    "The formulas relating the output shape of the convolution to the input shape are:\n",
    "    \n",
    "$$n_H = \\Bigl\\lfloor \\frac{n_{H_{prev}} - f + 2 \\times pad}{stride} \\Bigr\\rfloor +1$$\n",
    "$$n_W = \\Bigl\\lfloor \\frac{n_{W_{prev}} - f + 2 \\times pad}{stride} \\Bigr\\rfloor +1$$\n",
    "$$n_C = \\text{number of filters used in the convolution}$$\n",
    "    \n",
    "\n",
    "\n",
    "\n",
    "For this exercise, don't worry about vectorization! Just implement everything with for-loops."
   ]
  },
  {
   "cell_type": "code",
   "execution_count": 6,
   "id": "fe5793c2-08c6-44b5-aa76-a707a2bab437",
   "metadata": {},
   "outputs": [],
   "source": [
    "def forward_conv(A_prev, W, B, padding, strides):\n",
    "    \"\"\"\n",
    "    Arguments:\n",
    "    A_prev -- output of the previous layer, numpy array of shape (m, n_H_prev, n_W_prev, n_C_prev)\n",
    "    W -- Weights, numpy array of shape (f_H, f_W, n_C_prev, n_C)\n",
    "    B -- Biases, numpy array of shape (1, 1, 1, n_C)\n",
    "    padding -- int, the amount of zero-padding to add around the border\n",
    "    strides -- tuple of two ints, (stride_h, stride_w), the strides for height and width\n",
    "    \n",
    "    Returns:\n",
    "    Z -- conv output, numpy array of shape (m, n_H, n_W, n_C)\n",
    "    cache -- cache of values needed for the backward_conv() function\n",
    "    \"\"\"\n",
    "    m, n_H_prev, n_W_prev, n_C_prev = A_prev.shape\n",
    "    f_H, f_W, _, n_C = W.shape\n",
    "    stride_H, stride_W = strides\n",
    "    \n",
    "    n_H = int((n_H_prev - f_H + 2*padding) / stride_H) + 1\n",
    "    n_W = int((n_W_prev - f_W + 2*padding) / stride_W) + 1\n",
    "\n",
    "    A_prev_padded = pad_with_zeros(A_prev, n_pads=padding)\n",
    "    Z = np.zeros((m, n_H, n_W, n_C))\n",
    "    \n",
    "    for i in range(m):\n",
    "        a_prev = A_prev_padded[i]  # Take 1 sample\n",
    "        \n",
    "        for h in range(n_H):  # Loop over output height\n",
    "            start_H = h * stride_H\n",
    "            end_H = start_H + f_H\n",
    "\n",
    "            for w in range(n_W):  # Loop over output width\n",
    "                start_W = w * stride_W\n",
    "                end_W = start_W + f_W\n",
    "\n",
    "                for c in range(n_C):  # Loop over the number of channels\n",
    "                    a_sliced_prev = a_prev[start_H:end_H, start_W:end_W, :]  # Take a slice across 3D of 1 sample\n",
    "                \n",
    "                    Z[i, h, w, c] = convolute(a_sliced_prev, W[..., c], B[..., c])\n",
    "\n",
    "    cache_conv = (A_prev, W, B, padding, strides)\n",
    "    return Z, cache_conv"
   ]
  },
  {
   "cell_type": "code",
   "execution_count": 7,
   "id": "47970005-85a2-445b-8ad6-d6d9f7c74a1f",
   "metadata": {},
   "outputs": [
    {
     "name": "stdout",
     "output_type": "stream",
     "text": [
      "Z.shape = (2, 3, 4, 8)\n"
     ]
    },
    {
     "data": {
      "text/plain": [
       "(array([-2.17796037,  8.07171329, -0.5772704 ,  3.36286738,  4.48113645,\n",
       "        -2.89198428, 10.99288867,  3.03171932]),\n",
       " array([-1.1191154 ,  1.9560789 , -0.3264995 , -1.34267579]))"
      ]
     },
     "execution_count": 7,
     "metadata": {},
     "output_type": "execute_result"
    }
   ],
   "source": [
    "np.random.seed(1)\n",
    "A_prev = np.random.randn(2, 5, 7, 4)\n",
    "W = np.random.randn(3, 3, 4, 8)\n",
    "B = np.random.randn(1, 1, 1, 8)\n",
    "\n",
    "padding = 1\n",
    "strides = (2,2)\n",
    "\n",
    "Z, cache_conv = forward_conv(A_prev, W, B, padding, strides)\n",
    "print('Z.shape =', Z.shape)\n",
    "Z[0, 2, 1], cache_conv[0][1][2][3]"
   ]
  },
  {
   "cell_type": "markdown",
   "id": "683cbabd-da3f-4131-87ab-0f866c3742dc",
   "metadata": {},
   "source": [
    "# Forward Pass of Pooling Layer"
   ]
  },
  {
   "cell_type": "markdown",
   "id": "234e058a-fda6-46f5-a08e-0e73bd380a0a",
   "metadata": {},
   "source": [
    "As there's no padding, the formulas binding the output shape of the pooling to the input shape is:\n",
    "\n",
    "$$n_H = \\Bigl\\lfloor \\frac{n_{H_{prev}} - p}{stride} \\Bigr\\rfloor +1$$\n",
    "\n",
    "$$n_W = \\Bigl\\lfloor \\frac{n_{W_{prev}} - p}{stride} \\Bigr\\rfloor +1$$\n",
    "\n",
    "$$n_C = n_{C_{prev}}$$"
   ]
  },
  {
   "cell_type": "code",
   "execution_count": 8,
   "id": "e53c1269-3a96-4870-8b14-9486f710ac29",
   "metadata": {},
   "outputs": [],
   "source": [
    "def forward_pool(A_prev, pool_size, strides, mode='max'):\n",
    "    \"\"\"\n",
    "    Arguments:\n",
    "    A_prev -- Input data, numpy array of shape (m, n_H_prev, n_W_prev, n_C_prev)\n",
    "    pool_size -- tuple of two ints, (f_H, f_W), size of the pooling window\n",
    "    strides -- tuple of two ints, (stride_H, stride_W), the stride for height and width\n",
    "    mode -- the pooling mode you would like to use, defined as a string (\"max\" or \"average\")\n",
    "    \n",
    "    Returns:\n",
    "    A -- output of the pooling layer, a numpy array of shape (m, n_H, n_W, n_C)\n",
    "    cache_pool -- cache of values needed for the backward pass of the pooling layer, contains the layer's input and hyperparameters\n",
    "    \"\"\"\n",
    "    m, n_H_prev, n_W_prev, n_C_prev = A_prev.shape\n",
    "    p_H, p_W = pool_size\n",
    "    stride_H, stride_W = strides\n",
    "\n",
    "    n_H = int((n_H_prev - p_H) / stride_H) + 1\n",
    "    n_W = int((n_W_prev - p_W) / stride_W) + 1\n",
    "    n_C = n_C_prev\n",
    "\n",
    "    A = np.zeros((m, n_H, n_W, n_C))\n",
    "    \n",
    "    for i in range(m):\n",
    "        a_prev = A_prev[i]\n",
    "\n",
    "        for h in range(n_H):\n",
    "            start_H = h * stride_H\n",
    "            end_H = start_H + p_H\n",
    "\n",
    "            for w in range(n_W):\n",
    "                start_W = w * stride_W\n",
    "                end_W = start_W + p_W\n",
    "\n",
    "                for c in range(n_C):\n",
    "                    a_sliced_prev = a_prev[start_H:end_H, start_W:end_W, c]  # Take a slice of 1 channel of 1 sample\n",
    "              \n",
    "                    if mode == 'max':\n",
    "                        A[i, h, w, c] = np.max(a_sliced_prev)\n",
    "                    elif mode == 'average':\n",
    "                        A[i, h, w, c] = np.mean(a_sliced_prev)\n",
    "\n",
    "    cache_pool = (A_prev, pool_size, strides)\n",
    "    return A, cache_pool"
   ]
  },
  {
   "cell_type": "code",
   "execution_count": 9,
   "id": "e90e5234-4f0b-4f41-9b8c-1a785ed8c0c7",
   "metadata": {},
   "outputs": [
    {
     "name": "stdout",
     "output_type": "stream",
     "text": [
      "A_max.shape = (2, 3, 3, 3)\n",
      "A_average.shape = (2, 3, 3, 3)\n"
     ]
    },
    {
     "data": {
      "text/plain": [
       "(array([[1.96710175, 0.84616065, 1.27375593],\n",
       "        [1.96710175, 0.84616065, 1.23616403],\n",
       "        [1.62765075, 1.12141771, 1.2245077 ]]),\n",
       " array([[ 0.44497696, -0.00261695, -0.31040307],\n",
       "        [ 0.50811474, -0.23493734, -0.23961183],\n",
       "        [ 0.11872677,  0.17255229, -0.22112197]]))"
      ]
     },
     "execution_count": 9,
     "metadata": {},
     "output_type": "execute_result"
    }
   ],
   "source": [
    "# Case 1: stride of 1\n",
    "np.random.seed(1)\n",
    "A_prev = np.random.randn(2, 5, 5, 3)\n",
    "\n",
    "pool_size = (3,3)\n",
    "strides = (1,1)\n",
    "\n",
    "A_max, _ = forward_pool(A_prev, pool_size, strides, mode='max')\n",
    "A_average, _ = forward_pool(A_prev, pool_size, strides, mode='average')\n",
    "print('A_max.shape =', A_max.shape)\n",
    "print('A_average.shape =', A_average.shape)\n",
    "A_max[1,1], A_average[1,1]"
   ]
  },
  {
   "cell_type": "code",
   "execution_count": 10,
   "id": "c2ed7901-b778-43af-8939-a1ce7a8d5eb8",
   "metadata": {},
   "outputs": [
    {
     "name": "stdout",
     "output_type": "stream",
     "text": [
      "A_max.shape = (2, 2, 2, 3)\n",
      "A_average.shape = (2, 2, 2, 3)\n"
     ]
    },
    {
     "data": {
      "text/plain": [
       "(array([[[1.74481176, 0.90159072, 1.65980218],\n",
       "         [1.74481176, 1.6924546 , 1.65980218]],\n",
       " \n",
       "        [[1.13162939, 1.51981682, 2.18557541],\n",
       "         [1.13162939, 1.6924546 , 2.18557541]]]),\n",
       " array([[[-0.17313416,  0.32377198, -0.34317572],\n",
       "         [ 0.02030094,  0.14141479, -0.01231585]],\n",
       " \n",
       "        [[ 0.42944926,  0.08446996, -0.27290905],\n",
       "         [ 0.15077452,  0.28911175,  0.00123239]]]))"
      ]
     },
     "execution_count": 10,
     "metadata": {},
     "output_type": "execute_result"
    }
   ],
   "source": [
    "# Case 2: stride of 2\n",
    "np.random.seed(1)\n",
    "A_prev = np.random.randn(2, 5, 5, 3)\n",
    "\n",
    "pool_size = (3,3)\n",
    "strides = (2,2)\n",
    "\n",
    "A_max, _ = forward_pool(A_prev, pool_size, strides, mode='max')\n",
    "A_average, _ = forward_pool(A_prev, pool_size, strides, mode='average')\n",
    "print('A_max.shape =', A_max.shape)\n",
    "print('A_average.shape =', A_average.shape)\n",
    "A_max[0], A_average[1]"
   ]
  },
  {
   "cell_type": "markdown",
   "id": "5c0a85dc-3ccf-46e5-9da0-15108374b508",
   "metadata": {},
   "source": [
    "**What you should remember**:\n",
    "\n",
    "* A convolution extracts features from an input image by taking the dot product between the input data and a 3D array of weights (the filter). \n",
    "* The 2D output of the convolution is called the feature map\n",
    "* A convolution layer is where the filter slides over the image and computes the dot product \n",
    "    * This transforms the input volume into an output volume of different size \n",
    "* Zero padding helps keep more information at the image borders, and is helpful for building deeper networks, because you can build a CONV layer without shrinking the height and width of the volumes\n",
    "* Pooling layers gradually reduce the height and width of the input by sliding a 2D window over each specified region, then summarizing the features in that region"
   ]
  },
  {
   "cell_type": "markdown",
   "id": "f417af27-2640-4bab-878d-dd6cc80f1c73",
   "metadata": {},
   "source": [
    "# Backpropagation of Conv_Layer"
   ]
  },
  {
   "cell_type": "markdown",
   "id": "40c6394b-0cd0-4dbb-b96e-e68f7f90714f",
   "metadata": {},
   "source": [
    "https://www.youtube.com/watch?v=z9hJzduHToc"
   ]
  },
  {
   "cell_type": "code",
   "execution_count": 11,
   "id": "76b991f4-44fd-448b-889c-3d2772d48baf",
   "metadata": {},
   "outputs": [],
   "source": [
    "def backward_conv(dZ, cache_conv):\n",
    "    \"\"\"\n",
    "    Arguments:\n",
    "    dZ -- Gradient of the cost w.r.t the output of the conv layer (Z), numpy array of shape (m, n_H, n_W, n_C)\n",
    "    cache_conv -- Cache of values needed for backward propagation (A_prev, W, B, padding, strides)\n",
    "    \n",
    "    Returns:\n",
    "    dA_prev -- Gradient of the cost w.r.t the input of the conv layer (A_prev), numpy array of shape (m, n_H_prev, n_W_prev, n_C_prev)\n",
    "    dW -- Gradient of the cost w.r.t the weights (W), numpy array of shape (f_H, f_W, n_C_prev, n_C)\n",
    "    dB -- Gradient of the cost w.r.t the biases (B), numpy array of shape (1, 1, 1, n_C)\n",
    "    \"\"\"    \n",
    "    A_prev, W, B, padding, strides = cache_conv\n",
    "    stride_H, stride_W = strides\n",
    "    m, n_H_prev, n_W_prev, n_C_prev = A_prev.shape\n",
    "    f_H, f_W, _, n_C = W.shape\n",
    "    _, n_H, n_W, _ = dZ.shape\n",
    "\n",
    "    dA_prev = np.zeros(A_prev.shape)  # without padding\n",
    "    dW = np.zeros(W.shape)\n",
    "    dB = np.zeros((1, 1, 1, n_C))\n",
    "\n",
    "    A_prev_padded = pad_with_zeros(A_prev, n_pads=padding)\n",
    "    dA_prev_padded = pad_with_zeros(dA_prev, n_pads=padding)\n",
    "\n",
    "    for i in range(m):\n",
    "        a_prev = A_prev_padded[i]\n",
    "        da_prev = dA_prev_padded[i]\n",
    "        \n",
    "        for h in range(n_H):\n",
    "            start_H = h * stride_H\n",
    "            end_H = start_H + f_H\n",
    "    \n",
    "            for w in range(n_W):\n",
    "                start_W = w * stride_W\n",
    "                end_W = start_W + f_W\n",
    "    \n",
    "                for c in range(n_C):\n",
    "                    a_sliced_prev = a_prev[start_H:end_H, start_W:end_W, :]\n",
    "\n",
    "                    da_prev[start_H:end_H, start_W:end_W, :] += W[:, :, :, c] * dZ[i, h, w, c]\n",
    "                    dW[:, :, :, c] += a_sliced_prev * dZ[i, h, w, c]\n",
    "                    dB[:, :, :, c] += dZ[i, h, w, c]\n",
    "\n",
    "        if padding != 0:  # remove padding\n",
    "            dA_prev[i, :, :, :] = da_prev[padding:-padding, padding:-padding, :]\n",
    "        else:\n",
    "            dA_prev[i, :, :, :] = da_prev\n",
    "        \n",
    "    return dA_prev, dW, dB"
   ]
  },
  {
   "cell_type": "code",
   "execution_count": 12,
   "id": "f4008a03-3e20-41ab-8f81-ecaa859fcfb4",
   "metadata": {},
   "outputs": [
    {
     "name": "stdout",
     "output_type": "stream",
     "text": [
      "dA_prev_mean = 1.4524377775388075\n",
      "dW_mean = 1.7269914583139097\n",
      "dB_mean = 7.839232564616838\n"
     ]
    }
   ],
   "source": [
    "np.random.seed(1)\n",
    "A_prev = np.random.randn(10, 4, 4, 3)\n",
    "W = np.random.randn(2, 2, 3, 8)\n",
    "B = np.random.randn(1, 1, 1, 8)\n",
    "\n",
    "padding = 2\n",
    "strides = (2,2)\n",
    "\n",
    "Z, cache_conv = forward_conv(A_prev, W, B, padding, strides)\n",
    "dA_prev, dW, dB = backward_conv(Z, cache_conv)\n",
    "\n",
    "print(\"dA_prev_mean =\", np.mean(dA_prev))\n",
    "print(\"dW_mean =\", np.mean(dW))\n",
    "print(\"dB_mean =\", np.mean(dB))"
   ]
  },
  {
   "cell_type": "markdown",
   "id": "a8449017-140e-483d-b17a-3ae01340cb02",
   "metadata": {},
   "source": [
    "**Expected Output**:\n",
    "<table>\n",
    "    <tr>\n",
    "        <td>\n",
    "            dA_mean\n",
    "        </td>\n",
    "        <td>\n",
    "            1.45243777754\n",
    "        </td>\n",
    "    </tr>\n",
    "    <tr>\n",
    "        <td>\n",
    "            dW_mean\n",
    "        </td>\n",
    "        <td>\n",
    "            1.72699145831\n",
    "        </td>\n",
    "    </tr>\n",
    "    <tr>\n",
    "        <td>\n",
    "            db_mean\n",
    "        </td>\n",
    "        <td>\n",
    "            7.83923256462\n",
    "        </td>\n",
    "    </tr>\n",
    "\n",
    "</table>\n"
   ]
  },
  {
   "cell_type": "markdown",
   "id": "bdba3661-b280-420a-9f73-793a076d7769",
   "metadata": {},
   "source": [
    "# Backpropagation of Pooling Layer"
   ]
  },
  {
   "cell_type": "markdown",
   "id": "ab219926-4062-4817-b186-a9a89c0272e1",
   "metadata": {},
   "source": [
    "### Helper Function for Max Pooling Backprop\n",
    "\n",
    "Before jumping into the backpropagation of the pooling layer, you are going to build a helper function which does the following: \n",
    "\n",
    "$$ A_{prev} = \\begin{bmatrix}\n",
    "1 && 3 \\\\\n",
    "4 && 2\n",
    "\\end{bmatrix} \\quad \\rightarrow \\quad mask\\_maxPool =\\begin{bmatrix}\n",
    "0 && 0 \\\\\n",
    "1 && 0\n",
    "\\end{bmatrix}$$\n",
    "\n",
    "As you can see, this function creates a \"mask\" matrix which keeps track of where the maximum of the matrix is. True (1) indicates the position of the maximum in X, the other entries are False (0). You'll see later that the backward pass for average pooling is similar to this, but uses a different mask.  "
   ]
  },
  {
   "cell_type": "markdown",
   "id": "642186a7-7740-4a21-b69d-ebfd443b6a11",
   "metadata": {},
   "source": [
    "### Helper Function for Average Pooling Backprop\n",
    "\n",
    "In max pooling, for each input window, all the \"influence\" on the output came from a single input value - the max value. In average pooling, every element of the input window has equal influence on the output. So to implement backprop, you will now implement a helper function that reflects this.\n",
    "\n",
    "For example if we did average pooling in the forward pass using a 2x2 filter, then the mask you'll use for the backward pass will look like: \n",
    "$$ A_{prev} = \\begin{bmatrix}\n",
    "a && b \\\\\n",
    "c && d\n",
    "\\end{bmatrix} \\quad \\rightarrow \\quad mask\\_avgPool =\\begin{bmatrix}\n",
    "1/4 && 1/4 \\\\\n",
    "1/4 && 1/4\n",
    "\\end{bmatrix}$$\n",
    "\n",
    "This implies that each position in the `A_prev` matrix contributes equally to output because in the forward pass, we took an average. "
   ]
  },
  {
   "cell_type": "code",
   "execution_count": 13,
   "id": "732bbf65-667b-42f3-8865-b910ddcdcaa0",
   "metadata": {},
   "outputs": [],
   "source": [
    "def backward_pool(dA, cache_pool, mode='max'):\n",
    "    A_prev, pool_size, strides = cache_pool\n",
    "    p_H, p_W = pool_size\n",
    "    stride_H, stride_W = strides\n",
    "\n",
    "    m, n_H_prev, n_W_prev, n_C = A_prev.shape\n",
    "    _, n_H, n_W, _ = dA.shape\n",
    "\n",
    "    dA_prev = np.zeros(A_prev.shape)\n",
    "\n",
    "    for i in range(m):\n",
    "        a_prev = A_prev[i, :, :, :]\n",
    "        da_prev = dA_prev[i, :, :, :]\n",
    "        \n",
    "        for h in range(n_H):\n",
    "            start_H = h * stride_H\n",
    "            end_H = start_H + p_H\n",
    "    \n",
    "            for w in range(n_W):\n",
    "                start_W = w * stride_W\n",
    "                end_W = start_W + p_W\n",
    "    \n",
    "                for c in range(n_C):\n",
    "\n",
    "                    if mode == 'max':\n",
    "                        a_sliced_prev = a_prev[start_H:end_H, start_W:end_W, c]\n",
    "                        mask_maxPool = (a_sliced_prev == np.max(a_sliced_prev)).astype(int)  # mask == dA w.r.t dA_prev\n",
    "                        da_prev[start_H:end_H, start_W:end_W, c] += mask_maxPool * dA[i, h, w, c]\n",
    "                        \n",
    "                    elif mode == 'average':\n",
    "                        mask_avgPool = np.ones(pool_size) / np.prod(pool_size)  # mask == dA w.r.t dA_prev\n",
    "                        da_prev[start_H:end_H, start_W:end_W, c] += mask_avgPool * dA[i, h, w, c]\n",
    "    return dA_prev"
   ]
  },
  {
   "cell_type": "code",
   "execution_count": 14,
   "id": "e1c6ecc2-dee4-4aa7-a975-19274cd36f6e",
   "metadata": {},
   "outputs": [
    {
     "name": "stdout",
     "output_type": "stream",
     "text": [
      "(5, 4, 2, 2)\n",
      "(5, 5, 3, 2)\n"
     ]
    },
    {
     "data": {
      "text/plain": [
       "(0.14571390272918056,\n",
       " array([[ 0.        ,  0.        ],\n",
       "        [ 5.05844394, -1.68282702],\n",
       "        [ 0.        ,  0.        ]]),\n",
       " array([[ 0.08485462,  0.2787552 ],\n",
       "        [ 1.26461098, -0.25749373],\n",
       "        [ 1.17975636, -0.53624893]]))"
      ]
     },
     "execution_count": 14,
     "metadata": {},
     "output_type": "execute_result"
    }
   ],
   "source": [
    "np.random.seed(1)\n",
    "A_prev = np.random.randn(5, 5, 3, 2)\n",
    "pool_size = (2,2)\n",
    "strides = (1,1)\n",
    "\n",
    "A, cache_pool = forward_pool(A_prev, pool_size, strides)\n",
    "print(A.shape)\n",
    "print(cache_pool[0].shape)\n",
    "\n",
    "dA = np.random.randn(5, 4, 2, 2)\n",
    "dA_prev_max = backward_pool(dA, cache_pool, mode=\"max\")\n",
    "dA_prev_avg = backward_pool(dA, cache_pool, mode=\"average\")\n",
    "\n",
    "np.mean(dA), dA_prev_max[1, 1], dA_prev_avg[1, 1]"
   ]
  },
  {
   "cell_type": "markdown",
   "id": "aeb3fe2c-8121-4d7c-8804-e745bd1e1e1c",
   "metadata": {},
   "source": [
    "**Expected Output**: \n",
    "\n",
    "`mode = max`\n",
    "<table> \n",
    "<tr> \n",
    "<td>\n",
    "\n",
    "**mean of dA =**\n",
    "</td>\n",
    "\n",
    "<td>\n",
    "\n",
    "0.145713902729\n",
    "\n",
    "  </td>\n",
    "</tr>\n",
    "\n",
    "<tr> \n",
    "<td>\n",
    "dA_prev[1,1] =\n",
    "</td>\n",
    "<td>\n",
    "[[ 0.          0.        ] <br>\n",
    " [ 5.05844394 -1.68282702] <br>\n",
    " [ 0.          0.        ]]\n",
    "</td>\n",
    "</tr>\n",
    "</table>\n",
    "\n",
    "`mode = average`\n",
    "<table> \n",
    "<tr> \n",
    "<td>\n",
    "\n",
    "mean of dA =\n",
    "</td>\n",
    "\n",
    "<td>\n",
    "\n",
    "0.145713902729\n",
    "\n",
    "  </td>\n",
    "</tr>\n",
    "\n",
    "<tr> \n",
    "<td>\n",
    "dA_prev[1,1] =\n",
    "</td>\n",
    "<td>\n",
    "[[ 0.08485462  0.2787552 ] <br>\n",
    " [ 1.26461098 -0.25749373] <br>\n",
    " [ 1.17975636 -0.53624893]]\n",
    "</td>\n",
    "</tr>\n",
    "</table>"
   ]
  },
  {
   "cell_type": "code",
   "execution_count": null,
   "id": "f9944796-9b5e-4559-a436-4c4366b087ea",
   "metadata": {},
   "outputs": [],
   "source": []
  }
 ],
 "metadata": {
  "kernelspec": {
   "display_name": "Python 3 (ipykernel)",
   "language": "python",
   "name": "python3"
  },
  "language_info": {
   "codemirror_mode": {
    "name": "ipython",
    "version": 3
   },
   "file_extension": ".py",
   "mimetype": "text/x-python",
   "name": "python",
   "nbconvert_exporter": "python",
   "pygments_lexer": "ipython3",
   "version": "3.11.7"
  }
 },
 "nbformat": 4,
 "nbformat_minor": 5
}
