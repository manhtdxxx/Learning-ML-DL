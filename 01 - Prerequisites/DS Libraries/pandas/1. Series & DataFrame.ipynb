{
 "cells": [
  {
   "cell_type": "markdown",
   "id": "2589573e",
   "metadata": {},
   "source": [
    "# SERIES"
   ]
  },
  {
   "cell_type": "code",
   "execution_count": 1,
   "id": "d3bff418",
   "metadata": {},
   "outputs": [
    {
     "name": "stdout",
     "output_type": "stream",
     "text": [
      "0    2\n",
      "1    4\n",
      "2    6\n",
      "3    8\n",
      "dtype: int64\n",
      "<class 'pandas.core.series.Series'>\n",
      "4\n"
     ]
    }
   ],
   "source": [
    "import pandas as pd\n",
    "\n",
    "list1 = [2,4,6,8]\n",
    "\n",
    "sr = pd.Series(list1)\n",
    "print(sr)\n",
    "print(type(sr))\n",
    "\n",
    "#\n",
    "print(sr[1])"
   ]
  },
  {
   "cell_type": "markdown",
   "id": "a5feef0c",
   "metadata": {},
   "source": [
    "### ĐẶT TÊN INDEX CHO SERIES"
   ]
  },
  {
   "cell_type": "code",
   "execution_count": 2,
   "id": "df869e62",
   "metadata": {},
   "outputs": [
    {
     "name": "stdout",
     "output_type": "stream",
     "text": [
      "A    2\n",
      "B    4\n",
      "C    6\n",
      "D    8\n",
      "dtype: int64\n",
      "8\n",
      "6\n"
     ]
    }
   ],
   "source": [
    "sr = pd.Series(list1,index=['A','B','C','D'])\n",
    "print(sr)\n",
    "\n",
    "#\n",
    "print(sr[3])\n",
    "print(sr['C'])"
   ]
  },
  {
   "cell_type": "markdown",
   "id": "6599e67c",
   "metadata": {},
   "source": [
    "# DATAFRAME"
   ]
  },
  {
   "cell_type": "code",
   "execution_count": 3,
   "id": "41d9bd1b",
   "metadata": {},
   "outputs": [
    {
     "name": "stdout",
     "output_type": "stream",
     "text": [
      "  Name  Age\n",
      "0    A    5\n",
      "1    B    3\n",
      "2    C    7\n",
      "3    D    9\n"
     ]
    }
   ],
   "source": [
    "list1 = ['A','B','C','D']\n",
    "list2 = [5,3,7,9]\n",
    "\n",
    "df = pd.DataFrame({'Name':list1, 'Age':list2}) # {} là dict\n",
    "print(df)"
   ]
  },
  {
   "cell_type": "markdown",
   "id": "06570d4b",
   "metadata": {},
   "source": [
    "### ĐẶT TÊN COLUMNS & INDEX CHO DF"
   ]
  },
  {
   "cell_type": "code",
   "execution_count": 4,
   "id": "71f18469",
   "metadata": {},
   "outputs": [
    {
     "name": "stdout",
     "output_type": "stream",
     "text": [
      "   Age          Name Gender\n",
      "A    5    Trần Đức A      M\n",
      "B    3      Lê Thị B      F\n",
      "C    7  Nguyễn Văn C      M\n",
      "D    9     Đào Thị D      F\n"
     ]
    }
   ],
   "source": [
    "list1 = ['Trần Đức A','Lê Thị B','Nguyễn Văn C','Đào Thị D']\n",
    "list2 = [5,3,7,9]\n",
    "list3 = ['M','F','M','F']\n",
    "dict1 = {'Name':list1, 'Age':list2,'Gender':list3}\n",
    "\n",
    "df = pd.DataFrame(dict1,columns=['Age','Name','Gender'],index=['A','B','C','D'])\n",
    "print(df)"
   ]
  },
  {
   "cell_type": "markdown",
   "id": "e398245c",
   "metadata": {},
   "source": [
    "### TRUY XUẤT DF"
   ]
  },
  {
   "cell_type": "code",
   "execution_count": 5,
   "id": "1eee15ef",
   "metadata": {},
   "outputs": [
    {
     "name": "stdout",
     "output_type": "stream",
     "text": [
      "A    5\n",
      "B    3\n",
      "C    7\n",
      "D    9\n",
      "Name: Age, dtype: int64\n",
      "\n",
      "           Name  Age\n",
      "A    Trần Đức A    5\n",
      "B      Lê Thị B    3\n",
      "C  Nguyễn Văn C    7\n",
      "D     Đào Thị D    9\n"
     ]
    }
   ],
   "source": [
    "# TRUY XUẤT COLUMNS\n",
    "print(df['Age'])\n",
    "print()\n",
    "print(df[['Name','Age']])"
   ]
  },
  {
   "cell_type": "code",
   "execution_count": 6,
   "id": "cce296bd",
   "metadata": {},
   "outputs": [
    {
     "name": "stdout",
     "output_type": "stream",
     "text": [
      "Age              3\n",
      "Name      Lê Thị B\n",
      "Gender           F\n",
      "Name: B, dtype: object\n",
      "\n",
      "   Age          Name Gender\n",
      "A    5    Trần Đức A      M\n",
      "B    3      Lê Thị B      F\n",
      "C    7  Nguyễn Văn C      M\n",
      "\n"
     ]
    }
   ],
   "source": [
    "# TRUY XUẤT ROWS = LOC\n",
    "print(df.loc['B'])\n",
    "print()\n",
    "print(df.loc['A':'C']) # vẫn tính C\n",
    "print()\n",
    "# print(df.loc[1]) # error vì chỉ access được theo index đã đánh"
   ]
  },
  {
   "cell_type": "code",
   "execution_count": 7,
   "id": "082ea5f4",
   "metadata": {},
   "outputs": [
    {
     "name": "stdout",
     "output_type": "stream",
     "text": [
      "Age              3\n",
      "Name      Lê Thị B\n",
      "Gender           F\n",
      "Name: B, dtype: object\n",
      "\n",
      "   Age        Name Gender\n",
      "A    5  Trần Đức A      M\n",
      "B    3    Lê Thị B      F\n",
      "\n"
     ]
    }
   ],
   "source": [
    "# TRUY XUẤT ROWS = ILOC (INT LOC)\n",
    "print(df.iloc[1]) # no error\n",
    "print()\n",
    "print(df.iloc[0:2]) # không tính index 2\n",
    "print()\n",
    "# print(df.iloc['B']) # error"
   ]
  },
  {
   "cell_type": "code",
   "execution_count": 8,
   "id": "df79d833",
   "metadata": {},
   "outputs": [
    {
     "name": "stdout",
     "output_type": "stream",
     "text": [
      "         Name  Age\n",
      "A  Trần Đức A    5\n",
      "B    Lê Thị B    3\n"
     ]
    }
   ],
   "source": [
    "# TRUY XUẤT BOTH ROWS AND COLUMNS\n",
    "print(df[['Name','Age']].iloc[0:2])"
   ]
  },
  {
   "cell_type": "markdown",
   "id": "30e6b722",
   "metadata": {},
   "source": [
    "### THÊM COLUMNS"
   ]
  },
  {
   "cell_type": "code",
   "execution_count": 9,
   "id": "cae6d52e",
   "metadata": {},
   "outputs": [
    {
     "name": "stdout",
     "output_type": "stream",
     "text": [
      "   Score1  Age          Name Gender\n",
      "A       7    5    Trần Đức A      M\n",
      "B       3    3      Lê Thị B      F\n",
      "C       8    7  Nguyễn Văn C      M\n",
      "D       6    9     Đào Thị D      F\n"
     ]
    }
   ],
   "source": [
    "# df.insert(index,'key','value') -- vị trí chèn, tên column, giá trị chèn\n",
    "list4 = [7,3,8,6]\n",
    "df.insert(0,'Score1',list4)\n",
    "print(df)"
   ]
  },
  {
   "cell_type": "code",
   "execution_count": 10,
   "id": "5bc96dbe",
   "metadata": {
    "scrolled": true
   },
   "outputs": [
    {
     "name": "stdout",
     "output_type": "stream",
     "text": [
      "   Score1  Age          Name Gender  Score2\n",
      "A       7    5    Trần Đức A      M       3\n",
      "B       3    3      Lê Thị B      F       7\n",
      "C       8    7  Nguyễn Văn C      M       4\n",
      "D       6    9     Đào Thị D      F       6\n"
     ]
    }
   ],
   "source": [
    "# CHÈN Ở CUỐI WITHOUT USING INSERT\n",
    "list5 = [3,7,4,6]\n",
    "df['Score2'] = list5\n",
    "print(df)"
   ]
  },
  {
   "cell_type": "code",
   "execution_count": 11,
   "id": "d3626cb5",
   "metadata": {},
   "outputs": [
    {
     "name": "stdout",
     "output_type": "stream",
     "text": [
      "   Score1  Age          Name Gender  Score2  Score3\n",
      "A       7    5    Trần Đức A      M       3      30\n",
      "B       3    3      Lê Thị B      F       7      70\n",
      "C       8    7  Nguyễn Văn C      M       4      40\n",
      "D       6    9     Đào Thị D      F       6      60\n"
     ]
    }
   ],
   "source": [
    "# THÊM COLUMN FROM EXISTING COLUMNS\n",
    "df['Score3'] = df['Score2'] * 10\n",
    "print(df)"
   ]
  },
  {
   "cell_type": "markdown",
   "id": "7802e48b",
   "metadata": {},
   "source": [
    "### THAY ĐỔI COLUMNS"
   ]
  },
  {
   "cell_type": "markdown",
   "id": "b80ca5ad",
   "metadata": {},
   "source": [
    "### df.rename()"
   ]
  },
  {
   "cell_type": "code",
   "execution_count": 12,
   "id": "58d54fb1",
   "metadata": {},
   "outputs": [
    {
     "name": "stdout",
     "output_type": "stream",
     "text": [
      "   Điểm 1  Age        Họ tên Gender  Score2  Score3\n",
      "A       7    5    Trần Đức A      M       3      30\n",
      "B       3    3      Lê Thị B      F       7      70\n",
      "C       8    7  Nguyễn Văn C      M       4      40\n",
      "D       6    9     Đào Thị D      F       6      60\n"
     ]
    }
   ],
   "source": [
    "df.rename(columns={'Score1':'Điểm 1', 'Name':'Họ tên'},inplace=True)\n",
    "print(df)\n",
    "\n",
    "# hoặc\n",
    "# df.columns = ['Họ Tên','Tuổi','Giới tính'] # viết theo thứ tự"
   ]
  },
  {
   "cell_type": "markdown",
   "id": "1bb45b3a",
   "metadata": {},
   "source": [
    "##### THAY ĐỔI 1 VALUE TRONG 1 COLUMN"
   ]
  },
  {
   "cell_type": "code",
   "execution_count": 13,
   "id": "152dcab5",
   "metadata": {},
   "outputs": [
    {
     "name": "stdout",
     "output_type": "stream",
     "text": [
      "   Điểm 1  Age        Họ tên Gender  Score2  Score3\n",
      "A       7    5    Trần Đức A      M       3      30\n",
      "B       3    3      Lê Thị B      F     200      70\n",
      "C       8    7  Nguyễn Văn C      M       4      40\n",
      "D       6    9     Đào Thị D      F       6      60\n"
     ]
    }
   ],
   "source": [
    "df.loc['B','Score2'] = 200\n",
    "print(df)"
   ]
  },
  {
   "cell_type": "markdown",
   "id": "a7f32cdb",
   "metadata": {},
   "source": [
    "##### THAY ĐỔI VALUES TRONG 1 COLUMN"
   ]
  },
  {
   "cell_type": "code",
   "execution_count": 14,
   "id": "f6527c9b",
   "metadata": {},
   "outputs": [
    {
     "name": "stdout",
     "output_type": "stream",
     "text": [
      "   Điểm 1  Age        Họ tên Gender  Score2  Score3\n",
      "A       7    5    Trần Đức A      M      10      30\n",
      "B       3    3      Lê Thị B      F      20      70\n",
      "C       8    7  Nguyễn Văn C      M      30      40\n",
      "D       6    9     Đào Thị D      F      40      60\n"
     ]
    }
   ],
   "source": [
    "df['Score2'] = [10,20,30,40]\n",
    "print(df)"
   ]
  },
  {
   "cell_type": "markdown",
   "id": "f18fe373",
   "metadata": {},
   "source": [
    "### XÓA COLUMNS"
   ]
  },
  {
   "cell_type": "code",
   "execution_count": 15,
   "id": "0e03489a",
   "metadata": {},
   "outputs": [
    {
     "name": "stdout",
     "output_type": "stream",
     "text": [
      "         Họ tên Gender  Score2  Score3\n",
      "A    Trần Đức A      M      10      30\n",
      "B      Lê Thị B      F      20      70\n",
      "C  Nguyễn Văn C      M      30      40\n",
      "D     Đào Thị D      F      40      60\n"
     ]
    }
   ],
   "source": [
    "# XÓA COLUMNS = DROP\n",
    "x = df.drop(columns=['Điểm 1', 'Age']) # may use inplace=True, vì drop sẽ trả về 1 df mới\n",
    "print(x)\n",
    "\n",
    "# hoặc\n",
    "#x = df.drop(['Điểm 1', 'Age'], axis=1)\n",
    "#print(x)"
   ]
  },
  {
   "cell_type": "code",
   "execution_count": 16,
   "id": "453a8909",
   "metadata": {},
   "outputs": [
    {
     "name": "stdout",
     "output_type": "stream",
     "text": [
      "   Điểm 1  Age      Họ tên Gender  Score2  Score3\n",
      "A       7    5  Trần Đức A      M      10      30\n",
      "D       6    9   Đào Thị D      F      40      60\n"
     ]
    }
   ],
   "source": [
    "# XÓA ROWS = DROP\n",
    "x = df.drop(['B','C']) # may use inplace=True, vì drop sẽ trả về 1 df mới\n",
    "print(x)"
   ]
  },
  {
   "cell_type": "code",
   "execution_count": 17,
   "id": "dc274b87",
   "metadata": {},
   "outputs": [
    {
     "name": "stdout",
     "output_type": "stream",
     "text": [
      "A    10\n",
      "B    20\n",
      "C    30\n",
      "D    40\n",
      "Name: Score2, dtype: int64\n",
      "---\n",
      "   Điểm 1  Age        Họ tên Gender  Score3\n",
      "A       7    5    Trần Đức A      M      30\n",
      "B       3    3      Lê Thị B      F      70\n",
      "C       8    7  Nguyễn Văn C      M      40\n",
      "D       6    9     Đào Thị D      F      60\n"
     ]
    }
   ],
   "source": [
    "# XÓA =  HÀM POP\n",
    "x = df.pop('Score2') # trả về column bị xóa\n",
    "print(x)\n",
    "print('---')\n",
    "print(df)"
   ]
  },
  {
   "cell_type": "code",
   "execution_count": 18,
   "id": "ab1f3521",
   "metadata": {
    "scrolled": true
   },
   "outputs": [
    {
     "name": "stdout",
     "output_type": "stream",
     "text": [
      "   Điểm 1  Age        Họ tên Gender\n",
      "A       7    5    Trần Đức A      M\n",
      "B       3    3      Lê Thị B      F\n",
      "C       8    7  Nguyễn Văn C      M\n",
      "D       6    9     Đào Thị D      F\n"
     ]
    }
   ],
   "source": [
    "# XÓA = TỪ KHÓA DEL\n",
    "del df['Score3']\n",
    "print(df)"
   ]
  },
  {
   "cell_type": "code",
   "execution_count": 19,
   "id": "52190ff9",
   "metadata": {},
   "outputs": [],
   "source": [
    "# XÓA DF\n",
    "#del df\n",
    "#print(df) # error vì đã xóa"
   ]
  },
  {
   "cell_type": "code",
   "execution_count": null,
   "id": "ed879449",
   "metadata": {},
   "outputs": [],
   "source": []
  }
 ],
 "metadata": {
  "kernelspec": {
   "display_name": "Python 3 (ipykernel)",
   "language": "python",
   "name": "python3"
  },
  "language_info": {
   "codemirror_mode": {
    "name": "ipython",
    "version": 3
   },
   "file_extension": ".py",
   "mimetype": "text/x-python",
   "name": "python",
   "nbconvert_exporter": "python",
   "pygments_lexer": "ipython3",
   "version": "3.11.5"
  }
 },
 "nbformat": 4,
 "nbformat_minor": 5
}
