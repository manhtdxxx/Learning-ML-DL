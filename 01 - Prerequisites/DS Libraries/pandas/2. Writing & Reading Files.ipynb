{
 "cells": [
  {
   "cell_type": "code",
   "execution_count": 1,
   "id": "7d19bdc1",
   "metadata": {},
   "outputs": [],
   "source": [
    "import numpy as np\n",
    "import pandas as pd\n",
    "\n",
    "list1 = ['Trần Đức A','Lê Thị B','Nguyễn Văn C','Đào Thị D']\n",
    "list2 = [5,3,7,9]\n",
    "list3 = ['M','F','M','F']\n",
    "\n",
    "dict1 = {'Name':list1, 'Age':list2,'Gender':list3}\n",
    "\n",
    "df = pd.DataFrame(dict1,index=['A','B','C','D'])"
   ]
  },
  {
   "cell_type": "markdown",
   "id": "77925867",
   "metadata": {},
   "source": [
    "# GHI FILE"
   ]
  },
  {
   "cell_type": "code",
   "execution_count": 2,
   "id": "0f16387f",
   "metadata": {},
   "outputs": [],
   "source": [
    "df.to_csv('my_df1.csv')\n",
    "\n",
    "df.to_csv('my_df2.txt')\n",
    "\n",
    "df.to_csv('my_df3.txt',sep='\\t')\n",
    "\n",
    "df.to_excel('my_df4.xlsx',sheet_name = 'sheet1')"
   ]
  },
  {
   "cell_type": "markdown",
   "id": "44f5cccc",
   "metadata": {},
   "source": [
    "# ĐỌC FILE"
   ]
  },
  {
   "cell_type": "code",
   "execution_count": 3,
   "id": "23cb1787",
   "metadata": {},
   "outputs": [
    {
     "name": "stdout",
     "output_type": "stream",
     "text": [
      "  Unnamed: 0          Name  Age Gender\n",
      "0          A    Trần Đức A    5      M\n",
      "1          B      Lê Thị B    3      F\n",
      "2          C  Nguyễn Văn C    7      M\n",
      "3          D     Đào Thị D    9      F\n"
     ]
    }
   ],
   "source": [
    "df = pd.read_csv('my_df1.csv')\n",
    "print(df)"
   ]
  },
  {
   "cell_type": "code",
   "execution_count": 4,
   "id": "9e9ae9e6",
   "metadata": {},
   "outputs": [
    {
     "name": "stdout",
     "output_type": "stream",
     "text": [
      "     \\tName\\tAge\\tGender\n",
      "0    A\\tTrần Đức A\\t5\\tM\n",
      "1      B\\tLê Thị B\\t3\\tF\n",
      "2  C\\tNguyễn Văn C\\t7\\tM\n",
      "3     D\\tĐào Thị D\\t9\\tF\n",
      "------------------------\n",
      "  Unnamed: 0          Name  Age Gender\n",
      "0          A    Trần Đức A    5      M\n",
      "1          B      Lê Thị B    3      F\n",
      "2          C  Nguyễn Văn C    7      M\n",
      "3          D     Đào Thị D    9      F\n"
     ]
    }
   ],
   "source": [
    "df = pd.read_csv('my_df3.txt')\n",
    "print(df)\n",
    "print('------------------------')\n",
    "df = pd.read_csv('my_df3.txt',sep='\\t')\n",
    "print(df)"
   ]
  },
  {
   "cell_type": "code",
   "execution_count": 5,
   "id": "183f06eb",
   "metadata": {},
   "outputs": [
    {
     "name": "stdout",
     "output_type": "stream",
     "text": [
      "  Unnamed: 0          Name  Age Gender\n",
      "0          A    Trần Đức A    5      M\n",
      "1          B      Lê Thị B    3      F\n",
      "2          C  Nguyễn Văn C    7      M\n",
      "3          D     Đào Thị D    9      F\n"
     ]
    }
   ],
   "source": [
    "df = pd.read_excel('my_df4.xlsx',sheet_name='sheet1')\n",
    "print(df)"
   ]
  },
  {
   "cell_type": "code",
   "execution_count": null,
   "id": "2d100ae8",
   "metadata": {},
   "outputs": [],
   "source": []
  }
 ],
 "metadata": {
  "kernelspec": {
   "display_name": "Python 3 (ipykernel)",
   "language": "python",
   "name": "python3"
  },
  "language_info": {
   "codemirror_mode": {
    "name": "ipython",
    "version": 3
   },
   "file_extension": ".py",
   "mimetype": "text/x-python",
   "name": "python",
   "nbconvert_exporter": "python",
   "pygments_lexer": "ipython3",
   "version": "3.11.7"
  }
 },
 "nbformat": 4,
 "nbformat_minor": 5
}
