{
 "cells": [
  {
   "cell_type": "code",
   "execution_count": 1,
   "id": "d80ce7e6",
   "metadata": {},
   "outputs": [
    {
     "name": "stdout",
     "output_type": "stream",
     "text": [
      "  Unnamed: 0          Name  Age Gender\n",
      "0          A    Trần Đức A    5      M\n",
      "1          B      Lê Thị B    3      F\n",
      "2          C  Nguyễn Văn C    7      M\n",
      "3          D     Đào Thị D    9      F\n",
      "\n",
      "           Name  Age Gender\n",
      "A    Trần Đức A    5      M\n",
      "B      Lê Thị B    3      F\n",
      "C  Nguyễn Văn C    7      M\n",
      "D     Đào Thị D    9      F\n"
     ]
    }
   ],
   "source": [
    "import pandas as pd\n",
    "\n",
    "df = pd.read_excel('my_df4.xlsx',sheet_name='sheet1')\n",
    "print(df)\n",
    "print('')\n",
    "df = pd.read_excel('my_df4.xlsx',sheet_name='sheet1',index_col=0) # treat unamed:0 as index\n",
    "print(df)"
   ]
  },
  {
   "cell_type": "markdown",
   "id": "c7d80073",
   "metadata": {},
   "source": [
    "### df.head/tail()"
   ]
  },
  {
   "cell_type": "code",
   "execution_count": 2,
   "id": "bfe94ea6",
   "metadata": {},
   "outputs": [
    {
     "name": "stdout",
     "output_type": "stream",
     "text": [
      "         Name  Age Gender\n",
      "A  Trần Đức A    5      M\n",
      "B    Lê Thị B    3      F\n",
      "\n",
      "           Name  Age Gender\n",
      "C  Nguyễn Văn C    7      M\n",
      "D     Đào Thị D    9      F\n"
     ]
    }
   ],
   "source": [
    "# tương tự select top trong SQL\n",
    "print(df.head(2))\n",
    "print()\n",
    "print(df.tail(2))"
   ]
  },
  {
   "cell_type": "markdown",
   "id": "440cfc9a",
   "metadata": {},
   "source": [
    "### df.unique()"
   ]
  },
  {
   "cell_type": "code",
   "execution_count": 3,
   "id": "f8ba9c8b",
   "metadata": {},
   "outputs": [
    {
     "name": "stdout",
     "output_type": "stream",
     "text": [
      "['M' 'F']\n"
     ]
    }
   ],
   "source": [
    "# tương tự select distinct trong SQL\n",
    "x = df['Gender'].unique()\n",
    "print(x)"
   ]
  },
  {
   "cell_type": "markdown",
   "id": "fb745e91",
   "metadata": {},
   "source": [
    "### df.sort_values()"
   ]
  },
  {
   "cell_type": "code",
   "execution_count": 4,
   "id": "ccd48b2b",
   "metadata": {
    "scrolled": false
   },
   "outputs": [
    {
     "name": "stdout",
     "output_type": "stream",
     "text": [
      "           Name  Age Gender\n",
      "D     Đào Thị D    9      F\n",
      "C  Nguyễn Văn C    7      M\n",
      "A    Trần Đức A    5      M\n",
      "B      Lê Thị B    3      F\n"
     ]
    }
   ],
   "source": [
    "# tương tự order by trong SQL\n",
    "x = df.sort_values('Age',ascending = False)\n",
    "print(x)"
   ]
  },
  {
   "cell_type": "markdown",
   "id": "9069f8f6",
   "metadata": {},
   "source": [
    "### df.T"
   ]
  },
  {
   "cell_type": "code",
   "execution_count": 5,
   "id": "80f1dff1",
   "metadata": {
    "scrolled": false
   },
   "outputs": [
    {
     "name": "stdout",
     "output_type": "stream",
     "text": [
      "                 A         B             C          D\n",
      "Name    Trần Đức A  Lê Thị B  Nguyễn Văn C  Đào Thị D\n",
      "Age              5         3             7          9\n",
      "Gender           M         F             M          F\n"
     ]
    }
   ],
   "source": [
    "# chuyển vị\n",
    "x = df.T\n",
    "print(x)"
   ]
  },
  {
   "cell_type": "markdown",
   "id": "45b35d42",
   "metadata": {},
   "source": [
    "# SOME ATTRIBUTES"
   ]
  },
  {
   "cell_type": "code",
   "execution_count": 6,
   "id": "b7a565e6",
   "metadata": {},
   "outputs": [
    {
     "name": "stdout",
     "output_type": "stream",
     "text": [
      "SHAPE: (4, 3)\n",
      "\n",
      "DTYPES:\n",
      " Name      object\n",
      "Age        int64\n",
      "Gender    object\n",
      "dtype: object\n",
      "\n",
      "COLUMNS: Index(['Name', 'Age', 'Gender'], dtype='object')\n",
      "\n",
      "VALUES:\n",
      " [['Trần Đức A' 5 'M']\n",
      " ['Lê Thị B' 3 'F']\n",
      " ['Nguyễn Văn C' 7 'M']\n",
      " ['Đào Thị D' 9 'F']]\n",
      "\n",
      "INDEX: Index(['A', 'B', 'C', 'D'], dtype='object')\n",
      "4\n"
     ]
    }
   ],
   "source": [
    "print('SHAPE:',df.shape) # 4 rows, 3 columns\n",
    "print()\n",
    "\n",
    "print('DTYPES:\\n',df.dtypes)\n",
    "print()\n",
    "\n",
    "print('COLUMNS:',df.columns)\n",
    "print()\n",
    "\n",
    "print('VALUES:\\n',df.values)\n",
    "print()\n",
    "\n",
    "print('INDEX:',df.index)\n",
    "print(len(df.index))"
   ]
  },
  {
   "cell_type": "code",
   "execution_count": 7,
   "id": "2a3c4b6c",
   "metadata": {
    "scrolled": false
   },
   "outputs": [
    {
     "name": "stdout",
     "output_type": "stream",
     "text": [
      "<class 'pandas.core.frame.DataFrame'>\n",
      "Index: 4 entries, A to D\n",
      "Data columns (total 3 columns):\n",
      " #   Column  Non-Null Count  Dtype \n",
      "---  ------  --------------  ----- \n",
      " 0   Name    4 non-null      object\n",
      " 1   Age     4 non-null      int64 \n",
      " 2   Gender  4 non-null      object\n",
      "dtypes: int64(1), object(2)\n",
      "memory usage: 300.0+ bytes\n",
      "None\n"
     ]
    }
   ],
   "source": [
    "print(df.info())"
   ]
  },
  {
   "cell_type": "markdown",
   "id": "014803e9",
   "metadata": {},
   "source": [
    "# QUERY"
   ]
  },
  {
   "cell_type": "code",
   "execution_count": 8,
   "id": "0fc87959",
   "metadata": {},
   "outputs": [
    {
     "name": "stdout",
     "output_type": "stream",
     "text": [
      "           Name  Age Gender\n",
      "C  Nguyễn Văn C    7      M\n",
      "D     Đào Thị D    9      F\n"
     ]
    }
   ],
   "source": [
    "x = df[df['Age']>5]\n",
    "print(x)"
   ]
  },
  {
   "cell_type": "code",
   "execution_count": 9,
   "id": "9b29eb5f",
   "metadata": {},
   "outputs": [
    {
     "name": "stdout",
     "output_type": "stream",
     "text": [
      "           Name  Age Gender\n",
      "C  Nguyễn Văn C    7      M\n"
     ]
    }
   ],
   "source": [
    "x = df[(df['Age']>5) & (df['Gender']=='M')]\n",
    "print(x)"
   ]
  },
  {
   "cell_type": "code",
   "execution_count": 10,
   "id": "047eeb80",
   "metadata": {},
   "outputs": [
    {
     "data": {
      "text/html": [
       "<div>\n",
       "<style scoped>\n",
       "    .dataframe tbody tr th:only-of-type {\n",
       "        vertical-align: middle;\n",
       "    }\n",
       "\n",
       "    .dataframe tbody tr th {\n",
       "        vertical-align: top;\n",
       "    }\n",
       "\n",
       "    .dataframe thead th {\n",
       "        text-align: right;\n",
       "    }\n",
       "</style>\n",
       "<table border=\"1\" class=\"dataframe\">\n",
       "  <thead>\n",
       "    <tr style=\"text-align: right;\">\n",
       "      <th></th>\n",
       "      <th>Name</th>\n",
       "      <th>Age</th>\n",
       "      <th>Gender</th>\n",
       "    </tr>\n",
       "  </thead>\n",
       "  <tbody>\n",
       "    <tr>\n",
       "      <th>A</th>\n",
       "      <td>Trần Đức A</td>\n",
       "      <td>5</td>\n",
       "      <td>M</td>\n",
       "    </tr>\n",
       "    <tr>\n",
       "      <th>C</th>\n",
       "      <td>Nguyễn Văn C</td>\n",
       "      <td>7</td>\n",
       "      <td>M</td>\n",
       "    </tr>\n",
       "    <tr>\n",
       "      <th>D</th>\n",
       "      <td>Đào Thị D</td>\n",
       "      <td>9</td>\n",
       "      <td>F</td>\n",
       "    </tr>\n",
       "  </tbody>\n",
       "</table>\n",
       "</div>"
      ],
      "text/plain": [
       "           Name  Age Gender\n",
       "A    Trần Đức A    5      M\n",
       "C  Nguyễn Văn C    7      M\n",
       "D     Đào Thị D    9      F"
      ]
     },
     "execution_count": 10,
     "metadata": {},
     "output_type": "execute_result"
    }
   ],
   "source": [
    "df[(df.Age>5) | (df['Gender']=='M')]"
   ]
  },
  {
   "cell_type": "code",
   "execution_count": null,
   "id": "bf6a00e8",
   "metadata": {},
   "outputs": [],
   "source": []
  }
 ],
 "metadata": {
  "kernelspec": {
   "display_name": "Python 3 (ipykernel)",
   "language": "python",
   "name": "python3"
  },
  "language_info": {
   "codemirror_mode": {
    "name": "ipython",
    "version": 3
   },
   "file_extension": ".py",
   "mimetype": "text/x-python",
   "name": "python",
   "nbconvert_exporter": "python",
   "pygments_lexer": "ipython3",
   "version": "3.11.5"
  }
 },
 "nbformat": 4,
 "nbformat_minor": 5
}
