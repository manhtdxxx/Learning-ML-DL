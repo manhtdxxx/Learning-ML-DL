{
 "cells": [
  {
   "cell_type": "code",
   "execution_count": 1,
   "id": "f226d507",
   "metadata": {
    "scrolled": true
   },
   "outputs": [
    {
     "name": "stdout",
     "output_type": "stream",
     "text": [
      "  Unnamed: 0          Name  Age Gender\n",
      "0          A    Trần Đức A    5      M\n",
      "1          B      Lê Thị B    3      F\n",
      "2          C  Nguyễn Văn C    7      M\n",
      "3          D     Đào Thị D    9      F\n",
      "\n",
      "           Name  Age Gender\n",
      "0    Trần Đức A    5      M\n",
      "1      Lê Thị B    3      F\n",
      "2  Nguyễn Văn C    7      M\n",
      "3     Đào Thị D    9      F\n"
     ]
    }
   ],
   "source": [
    "import pandas as pd\n",
    "\n",
    "df = pd.read_excel('my_df4.xlsx',sheet_name='sheet1')\n",
    "print(df)\n",
    "print()\n",
    "\n",
    "df.drop(df.filter(regex=\"Unname\"), axis=1, inplace=True) # axis=1 represents for columns\n",
    "print(df)"
   ]
  },
  {
   "cell_type": "markdown",
   "id": "e79afb1d",
   "metadata": {},
   "source": [
    "# REMOVING DUPLICATES"
   ]
  },
  {
   "cell_type": "markdown",
   "id": "ef61d5f7",
   "metadata": {},
   "source": [
    "##### APPEND DUPLICATE(s)"
   ]
  },
  {
   "cell_type": "code",
   "execution_count": 2,
   "id": "4b494d09",
   "metadata": {},
   "outputs": [
    {
     "name": "stdout",
     "output_type": "stream",
     "text": [
      "           Name  Age Gender\n",
      "0    Trần Đức A  5.0      M\n",
      "1      Lê Thị B  3.0      F\n",
      "2  Nguyễn Văn C  7.0      M\n",
      "3     Đào Thị D  9.0      F\n",
      "4    Trần Đức A  5.0      M\n"
     ]
    }
   ],
   "source": [
    "df.loc[len(df.index),:] = ['Trần Đức A', 5, 'M'] # len trả về index cuối cùng + 1, : để bắt đầu từ column đầu đến column cuối\n",
    "print(df)"
   ]
  },
  {
   "cell_type": "markdown",
   "id": "35409555",
   "metadata": {},
   "source": [
    "### df.duplicated()"
   ]
  },
  {
   "cell_type": "code",
   "execution_count": 3,
   "id": "39f14203",
   "metadata": {},
   "outputs": [
    {
     "name": "stdout",
     "output_type": "stream",
     "text": [
      "0    False\n",
      "1    False\n",
      "2    False\n",
      "3    False\n",
      "4     True\n",
      "dtype: bool\n"
     ]
    }
   ],
   "source": [
    "print(df.duplicated()) # to discover duplicates"
   ]
  },
  {
   "cell_type": "markdown",
   "id": "acdc826a",
   "metadata": {},
   "source": [
    "### df.drop_duplicates()"
   ]
  },
  {
   "cell_type": "code",
   "execution_count": 4,
   "id": "ac54a6f4",
   "metadata": {},
   "outputs": [
    {
     "name": "stdout",
     "output_type": "stream",
     "text": [
      "           Name  Age Gender\n",
      "0    Trần Đức A  5.0      M\n",
      "1      Lê Thị B  3.0      F\n",
      "2  Nguyễn Văn C  7.0      M\n",
      "3     Đào Thị D  9.0      F\n"
     ]
    }
   ],
   "source": [
    "x = df.drop_duplicates()\n",
    "print(x)"
   ]
  },
  {
   "cell_type": "code",
   "execution_count": 5,
   "id": "b7a3732e",
   "metadata": {},
   "outputs": [
    {
     "name": "stdout",
     "output_type": "stream",
     "text": [
      "         Name  Age Gender\n",
      "0  Trần Đức A  5.0      M\n",
      "1    Lê Thị B  3.0      F\n"
     ]
    }
   ],
   "source": [
    "x = df.drop_duplicates(subset='Gender') # may use inplace=True\n",
    "print(x)"
   ]
  },
  {
   "cell_type": "code",
   "execution_count": 6,
   "id": "38c3f15b",
   "metadata": {},
   "outputs": [
    {
     "name": "stdout",
     "output_type": "stream",
     "text": [
      "         Name  Age Gender\n",
      "3   Đào Thị D  9.0      F\n",
      "4  Trần Đức A  5.0      M\n"
     ]
    }
   ],
   "source": [
    "x = df.drop_duplicates('Gender',keep='last')\n",
    "print(x)"
   ]
  },
  {
   "cell_type": "code",
   "execution_count": null,
   "id": "381502ac",
   "metadata": {},
   "outputs": [],
   "source": []
  }
 ],
 "metadata": {
  "kernelspec": {
   "display_name": "Python 3 (ipykernel)",
   "language": "python",
   "name": "python3"
  },
  "language_info": {
   "codemirror_mode": {
    "name": "ipython",
    "version": 3
   },
   "file_extension": ".py",
   "mimetype": "text/x-python",
   "name": "python",
   "nbconvert_exporter": "python",
   "pygments_lexer": "ipython3",
   "version": "3.11.5"
  }
 },
 "nbformat": 4,
 "nbformat_minor": 5
}
