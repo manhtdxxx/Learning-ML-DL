{
 "cells": [
  {
   "cell_type": "code",
   "execution_count": 1,
   "id": "c8ce1e2f",
   "metadata": {},
   "outputs": [
    {
     "name": "stdout",
     "output_type": "stream",
     "text": [
      "        Họ và Tên  Tuổi Giới tính  Điểm Toán  Điếm Văn\n",
      "0     Trân Văn Từ    30         M        8.0       6.0\n",
      "1  Trần Văn Chuồn    20         M        NaN       6.0\n",
      "2    Đào Thị Bưởi    22         F        NaN       7.0\n",
      "3   Mùng Thị Hồng    20         F        NaN       NaN\n",
      "4   Thịt Thị Tươi    22         F        3.0       8.0\n",
      "5     Trần Văn Từ    30         M        5.0       2.0\n",
      "----------------------------------------------------------------------------------------------------\n",
      "       Họ và Tên  Tuổi Giới tính  Điểm Toán  Điếm Văn\n",
      "0      Đỗ An Tâm    60         M          3         9\n",
      "1  Trần Bình Yên    70         M          4         1\n",
      "2   Đào Thị Bưởi    80         F          2         7\n"
     ]
    }
   ],
   "source": [
    "import pandas as pd\n",
    "\n",
    "df1 = pd.read_excel('my_score.xlsx',sheet_name='Sheet1')\n",
    "df1.pop('1')\n",
    "print(df1)\n",
    "print('-'*100)\n",
    "\n",
    "df2 = pd.read_excel('my_score.xlsx',sheet_name='Sheet2')\n",
    "df2.pop('1')\n",
    "print(df2)"
   ]
  },
  {
   "cell_type": "markdown",
   "id": "4e2e2770",
   "metadata": {},
   "source": [
    "### df.concat()"
   ]
  },
  {
   "cell_type": "code",
   "execution_count": 2,
   "id": "ab2b847c",
   "metadata": {},
   "outputs": [
    {
     "name": "stdout",
     "output_type": "stream",
     "text": [
      "        Họ và Tên  Tuổi Giới tính  Điểm Toán  Điếm Văn\n",
      "0     Trân Văn Từ    30         M        8.0       6.0\n",
      "1  Trần Văn Chuồn    20         M        NaN       6.0\n",
      "2    Đào Thị Bưởi    22         F        NaN       7.0\n",
      "3   Mùng Thị Hồng    20         F        NaN       NaN\n",
      "4   Thịt Thị Tươi    22         F        3.0       8.0\n",
      "5     Trần Văn Từ    30         M        5.0       2.0\n",
      "0       Đỗ An Tâm    60         M        3.0       9.0\n",
      "1   Trần Bình Yên    70         M        4.0       1.0\n",
      "2    Đào Thị Bưởi    80         F        2.0       7.0\n",
      "(9, 5)\n"
     ]
    }
   ],
   "source": [
    "df = pd.concat([df1,df2],axis=0)\n",
    "print(df)\n",
    "print(df.shape)"
   ]
  },
  {
   "cell_type": "code",
   "execution_count": 3,
   "id": "ab4f6204",
   "metadata": {},
   "outputs": [
    {
     "name": "stdout",
     "output_type": "stream",
     "text": [
      "        Họ và Tên  Tuổi Giới tính  Điểm Toán  Điếm Văn      Họ và Tên  Tuổi  \\\n",
      "0     Trân Văn Từ    30         M        8.0       6.0      Đỗ An Tâm  60.0   \n",
      "1  Trần Văn Chuồn    20         M        NaN       6.0  Trần Bình Yên  70.0   \n",
      "2    Đào Thị Bưởi    22         F        NaN       7.0   Đào Thị Bưởi  80.0   \n",
      "3   Mùng Thị Hồng    20         F        NaN       NaN            NaN   NaN   \n",
      "4   Thịt Thị Tươi    22         F        3.0       8.0            NaN   NaN   \n",
      "5     Trần Văn Từ    30         M        5.0       2.0            NaN   NaN   \n",
      "\n",
      "  Giới tính  Điểm Toán  Điếm Văn  \n",
      "0         M        3.0       9.0  \n",
      "1         M        4.0       1.0  \n",
      "2         F        2.0       7.0  \n",
      "3       NaN        NaN       NaN  \n",
      "4       NaN        NaN       NaN  \n",
      "5       NaN        NaN       NaN  \n",
      "(6, 10)\n"
     ]
    }
   ],
   "source": [
    "df = pd.concat([df1,df2],axis=1)\n",
    "print(df)\n",
    "print(df.shape)"
   ]
  },
  {
   "cell_type": "markdown",
   "id": "27695d8d",
   "metadata": {},
   "source": [
    "### df.merge"
   ]
  },
  {
   "cell_type": "code",
   "execution_count": 10,
   "id": "616e7340",
   "metadata": {},
   "outputs": [
    {
     "name": "stdout",
     "output_type": "stream",
     "text": [
      "    Họ và Tên_x  Tuổi_x Giới tính_x  Điểm Toán_x  Điếm Văn   Họ và Tên_y  \\\n",
      "0  Đào Thị Bưởi      22           F          NaN       7.0  Đào Thị Bưởi   \n",
      "\n",
      "   Tuổi_y Giới tính_y  Điểm Toán_y  \n",
      "0      80           F            2  \n"
     ]
    }
   ],
   "source": [
    "df = df1.merge(df2,on='Điếm Văn') # Tìm điểm văn bằng nhau và ghép lại bỏ đi 1 column điểm văn\n",
    "print(df)"
   ]
  },
  {
   "cell_type": "code",
   "execution_count": 5,
   "id": "5bac3f1c",
   "metadata": {},
   "outputs": [
    {
     "name": "stdout",
     "output_type": "stream",
     "text": [
      "    Họ và Tên_x  Tuổi_x Giới tính_x  Điểm Toán_x  Điếm Văn    Họ và Tên_y  \\\n",
      "0           NaN     NaN         NaN          NaN       9.0      Đỗ An Tâm   \n",
      "1           NaN     NaN         NaN          NaN       1.0  Trần Bình Yên   \n",
      "2  Đào Thị Bưởi    22.0           F          NaN       7.0   Đào Thị Bưởi   \n",
      "\n",
      "   Tuổi_y Giới tính_y  Điểm Toán_y  \n",
      "0      60           M            3  \n",
      "1      70           M            4  \n",
      "2      80           F            2  \n"
     ]
    }
   ],
   "source": [
    "df = df1.merge(df2,on='Điếm Văn',how='right') # Tìm điểm văn bằng nhau và ghép lại bỏ đi 1 column điểm văn\n",
    "print(df)"
   ]
  },
  {
   "cell_type": "code",
   "execution_count": 6,
   "id": "e7c0fc18",
   "metadata": {},
   "outputs": [
    {
     "name": "stdout",
     "output_type": "stream",
     "text": [
      "      Họ và Tên_x  Tuổi_x Giới tính_x  Điểm Toán_x  Điếm Văn   Họ và Tên_y  \\\n",
      "0     Trân Văn Từ      30           M          8.0       6.0           NaN   \n",
      "1  Trần Văn Chuồn      20           M          NaN       6.0           NaN   \n",
      "2    Đào Thị Bưởi      22           F          NaN       7.0  Đào Thị Bưởi   \n",
      "3   Mùng Thị Hồng      20           F          NaN       NaN           NaN   \n",
      "4   Thịt Thị Tươi      22           F          3.0       8.0           NaN   \n",
      "5     Trần Văn Từ      30           M          5.0       2.0           NaN   \n",
      "\n",
      "   Tuổi_y Giới tính_y  Điểm Toán_y  \n",
      "0     NaN         NaN          NaN  \n",
      "1     NaN         NaN          NaN  \n",
      "2    80.0           F          2.0  \n",
      "3     NaN         NaN          NaN  \n",
      "4     NaN         NaN          NaN  \n",
      "5     NaN         NaN          NaN  \n"
     ]
    }
   ],
   "source": [
    "df = df1.merge(df2,on='Điếm Văn',how='left') # Tìm điểm văn bằng nhau và ghép lại bỏ đi 1 column điểm văn\n",
    "print(df)"
   ]
  },
  {
   "cell_type": "code",
   "execution_count": 7,
   "id": "e3e81082",
   "metadata": {},
   "outputs": [
    {
     "name": "stdout",
     "output_type": "stream",
     "text": [
      "      Họ và Tên_x  Tuổi_x Giới tính_x  Điểm Toán_x  Điếm Văn    Họ và Tên_y  \\\n",
      "0     Trân Văn Từ    30.0           M          8.0       6.0            NaN   \n",
      "1  Trần Văn Chuồn    20.0           M          NaN       6.0            NaN   \n",
      "2    Đào Thị Bưởi    22.0           F          NaN       7.0   Đào Thị Bưởi   \n",
      "3   Mùng Thị Hồng    20.0           F          NaN       NaN            NaN   \n",
      "4   Thịt Thị Tươi    22.0           F          3.0       8.0            NaN   \n",
      "5     Trần Văn Từ    30.0           M          5.0       2.0            NaN   \n",
      "6             NaN     NaN         NaN          NaN       9.0      Đỗ An Tâm   \n",
      "7             NaN     NaN         NaN          NaN       1.0  Trần Bình Yên   \n",
      "\n",
      "   Tuổi_y Giới tính_y  Điểm Toán_y  \n",
      "0     NaN         NaN          NaN  \n",
      "1     NaN         NaN          NaN  \n",
      "2    80.0           F          2.0  \n",
      "3     NaN         NaN          NaN  \n",
      "4     NaN         NaN          NaN  \n",
      "5     NaN         NaN          NaN  \n",
      "6    60.0           M          3.0  \n",
      "7    70.0           M          4.0  \n"
     ]
    }
   ],
   "source": [
    "df = df1.merge(df2,on='Điếm Văn',how='outer') # Tìm điểm văn bằng nhau và ghép lại bỏ đi 1 column điểm văn\n",
    "print(df)"
   ]
  },
  {
   "cell_type": "code",
   "execution_count": 8,
   "id": "fb5ea2b3",
   "metadata": {},
   "outputs": [
    {
     "name": "stdout",
     "output_type": "stream",
     "text": [
      "       Họ và Tên_x  Tuổi_x Giới tính_x  Điểm Toán_x  Điếm Văn_x  \\\n",
      "0      Trân Văn Từ      30           M          8.0         6.0   \n",
      "1      Trân Văn Từ      30           M          8.0         6.0   \n",
      "2      Trân Văn Từ      30           M          8.0         6.0   \n",
      "3   Trần Văn Chuồn      20           M          NaN         6.0   \n",
      "4   Trần Văn Chuồn      20           M          NaN         6.0   \n",
      "5   Trần Văn Chuồn      20           M          NaN         6.0   \n",
      "6     Đào Thị Bưởi      22           F          NaN         7.0   \n",
      "7     Đào Thị Bưởi      22           F          NaN         7.0   \n",
      "8     Đào Thị Bưởi      22           F          NaN         7.0   \n",
      "9    Mùng Thị Hồng      20           F          NaN         NaN   \n",
      "10   Mùng Thị Hồng      20           F          NaN         NaN   \n",
      "11   Mùng Thị Hồng      20           F          NaN         NaN   \n",
      "12   Thịt Thị Tươi      22           F          3.0         8.0   \n",
      "13   Thịt Thị Tươi      22           F          3.0         8.0   \n",
      "14   Thịt Thị Tươi      22           F          3.0         8.0   \n",
      "15     Trần Văn Từ      30           M          5.0         2.0   \n",
      "16     Trần Văn Từ      30           M          5.0         2.0   \n",
      "17     Trần Văn Từ      30           M          5.0         2.0   \n",
      "\n",
      "      Họ và Tên_y  Tuổi_y Giới tính_y  Điểm Toán_y  Điếm Văn_y  \n",
      "0       Đỗ An Tâm      60           M            3           9  \n",
      "1   Trần Bình Yên      70           M            4           1  \n",
      "2    Đào Thị Bưởi      80           F            2           7  \n",
      "3       Đỗ An Tâm      60           M            3           9  \n",
      "4   Trần Bình Yên      70           M            4           1  \n",
      "5    Đào Thị Bưởi      80           F            2           7  \n",
      "6       Đỗ An Tâm      60           M            3           9  \n",
      "7   Trần Bình Yên      70           M            4           1  \n",
      "8    Đào Thị Bưởi      80           F            2           7  \n",
      "9       Đỗ An Tâm      60           M            3           9  \n",
      "10  Trần Bình Yên      70           M            4           1  \n",
      "11   Đào Thị Bưởi      80           F            2           7  \n",
      "12      Đỗ An Tâm      60           M            3           9  \n",
      "13  Trần Bình Yên      70           M            4           1  \n",
      "14   Đào Thị Bưởi      80           F            2           7  \n",
      "15      Đỗ An Tâm      60           M            3           9  \n",
      "16  Trần Bình Yên      70           M            4           1  \n",
      "17   Đào Thị Bưởi      80           F            2           7  \n"
     ]
    }
   ],
   "source": [
    "df = df1.merge(df2,how='cross') # Tìm điểm văn bằng nhau và ghép lại bỏ đi 1 column điểm văn\n",
    "print(df)"
   ]
  },
  {
   "cell_type": "code",
   "execution_count": null,
   "id": "8d88e2a9",
   "metadata": {},
   "outputs": [],
   "source": []
  }
 ],
 "metadata": {
  "kernelspec": {
   "display_name": "Python 3 (ipykernel)",
   "language": "python",
   "name": "python3"
  },
  "language_info": {
   "codemirror_mode": {
    "name": "ipython",
    "version": 3
   },
   "file_extension": ".py",
   "mimetype": "text/x-python",
   "name": "python",
   "nbconvert_exporter": "python",
   "pygments_lexer": "ipython3",
   "version": "3.11.5"
  }
 },
 "nbformat": 4,
 "nbformat_minor": 5
}
