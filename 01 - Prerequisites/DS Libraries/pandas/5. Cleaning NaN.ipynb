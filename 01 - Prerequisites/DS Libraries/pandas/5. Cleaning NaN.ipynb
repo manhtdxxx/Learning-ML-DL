{
 "cells": [
  {
   "cell_type": "code",
   "execution_count": 1,
   "id": "a67eb402",
   "metadata": {
    "scrolled": false
   },
   "outputs": [
    {
     "name": "stdout",
     "output_type": "stream",
     "text": [
      "   1       Họ và Tên  Tuổi Giới tính  Điểm Toán  Điếm Văn\n",
      "0  2     Trân Văn Từ    30         M        8.0       6.0\n",
      "1  3  Trần Văn Chuồn    20         M        NaN       6.0\n",
      "2  4    Đào Thị Bưởi    22         F        NaN       7.0\n",
      "3  5   Mùng Thị Hồng    20         F        NaN       NaN\n",
      "4  6   Thịt Thị Tươi    22         F        3.0       8.0\n",
      "5  7     Trần Văn Từ    30         M        5.0       2.0\n",
      "----------------------------------------------------------------------------------------------------\n",
      "        Họ và Tên  Tuổi Giới tính  Điểm Toán  Điếm Văn\n",
      "0     Trân Văn Từ    30         M        8.0       6.0\n",
      "1  Trần Văn Chuồn    20         M        NaN       6.0\n",
      "2    Đào Thị Bưởi    22         F        NaN       7.0\n",
      "3   Mùng Thị Hồng    20         F        NaN       NaN\n",
      "4   Thịt Thị Tươi    22         F        3.0       8.0\n",
      "5     Trần Văn Từ    30         M        5.0       2.0\n"
     ]
    }
   ],
   "source": [
    "import pandas as pd\n",
    "\n",
    "df1 = pd.read_excel('my_score.xlsx',sheet_name='Sheet1')\n",
    "print(df1)\n",
    "print('-'*100)\n",
    "\n",
    "df1.pop('1')\n",
    "print(df1)"
   ]
  },
  {
   "cell_type": "markdown",
   "id": "262e7a13",
   "metadata": {},
   "source": [
    "### df.isnull()"
   ]
  },
  {
   "cell_type": "code",
   "execution_count": 2,
   "id": "3f184133",
   "metadata": {
    "scrolled": false
   },
   "outputs": [
    {
     "name": "stdout",
     "output_type": "stream",
     "text": [
      "   Họ và Tên   Tuổi  Giới tính  Điểm Toán  Điếm Văn\n",
      "0      False  False      False      False     False\n",
      "1      False  False      False       True     False\n",
      "2      False  False      False       True     False\n",
      "3      False  False      False       True      True\n",
      "4      False  False      False      False     False\n",
      "5      False  False      False      False     False\n"
     ]
    }
   ],
   "source": [
    "x = df1.isnull()\n",
    "print(x)"
   ]
  },
  {
   "cell_type": "markdown",
   "id": "d6060ce7",
   "metadata": {},
   "source": [
    "### df.dropna()"
   ]
  },
  {
   "cell_type": "code",
   "execution_count": 3,
   "id": "a54b197d",
   "metadata": {
    "scrolled": true
   },
   "outputs": [
    {
     "name": "stdout",
     "output_type": "stream",
     "text": [
      "       Họ và Tên  Tuổi Giới tính  Điểm Toán  Điếm Văn\n",
      "0    Trân Văn Từ    30         M        8.0       6.0\n",
      "4  Thịt Thị Tươi    22         F        3.0       8.0\n",
      "5    Trần Văn Từ    30         M        5.0       2.0\n"
     ]
    }
   ],
   "source": [
    "x = df1.dropna() # may use inplace=True\n",
    "print(x)"
   ]
  },
  {
   "cell_type": "code",
   "execution_count": 7,
   "id": "798d525d",
   "metadata": {},
   "outputs": [
    {
     "name": "stdout",
     "output_type": "stream",
     "text": [
      "        Họ và Tên  Tuổi Giới tính  Điểm Toán  Điếm Văn\n",
      "0     Trân Văn Từ    30         M        8.0       6.0\n",
      "1  Trần Văn Chuồn    20         M        NaN       6.0\n",
      "2    Đào Thị Bưởi    22         F        NaN       7.0\n",
      "4   Thịt Thị Tươi    22         F        3.0       8.0\n",
      "5     Trần Văn Từ    30         M        5.0       2.0\n"
     ]
    }
   ],
   "source": [
    "x = df1.dropna(subset='Điếm Văn') # may use inplace=True\n",
    "print(x)"
   ]
  },
  {
   "cell_type": "markdown",
   "id": "e0f25b6d",
   "metadata": {},
   "source": [
    "### df.fillna"
   ]
  },
  {
   "cell_type": "code",
   "execution_count": null,
   "id": "7d458cc3",
   "metadata": {},
   "outputs": [],
   "source": [
    "x = df1.fillna(value=0) # may use inplace=True\n",
    "print(x)"
   ]
  },
  {
   "cell_type": "code",
   "execution_count": 11,
   "id": "f0d44dbe",
   "metadata": {},
   "outputs": [
    {
     "name": "stdout",
     "output_type": "stream",
     "text": [
      "        Họ và Tên  Tuổi Giới tính  Điểm Toán  Điếm Văn\n",
      "0     Trân Văn Từ    30         M        8.0       6.0\n",
      "1  Trần Văn Chuồn    20         M        0.0       6.0\n",
      "2    Đào Thị Bưởi    22         F        0.0       7.0\n",
      "3   Mùng Thị Hồng    20         F        0.0       NaN\n",
      "4   Thịt Thị Tươi    22         F        3.0       8.0\n",
      "5     Trần Văn Từ    30         M        5.0       2.0\n"
     ]
    }
   ],
   "source": [
    "x = df1.fillna({'Điểm Toán':0}) # theo columns chỉ định\n",
    "print(x)"
   ]
  },
  {
   "cell_type": "code",
   "execution_count": null,
   "id": "6375403d",
   "metadata": {},
   "outputs": [],
   "source": [
    "# ffill(forward fill): lấy giá trị đằng trước fill cho ô ở dưới\n",
    "# limit=1 : fill cho 1 đằng sau\n",
    "x = df1.fillna(method='ffill',limit=1) # may use inplace=True\n",
    "print(x)"
   ]
  },
  {
   "cell_type": "code",
   "execution_count": null,
   "id": "d21dc32e",
   "metadata": {},
   "outputs": [],
   "source": [
    "x = df1.fillna(method='ffill',limit=2) # may use inplace=True\n",
    "print(x)"
   ]
  },
  {
   "cell_type": "code",
   "execution_count": null,
   "id": "89b745fd",
   "metadata": {},
   "outputs": [],
   "source": [
    "# backfill(backward fill): lấy giá trị đằng sau fill cho ô ở trên\n",
    "x = df1.fillna(method='backfill',limit=1) # may use inplace=True\n",
    "print(x)"
   ]
  },
  {
   "cell_type": "markdown",
   "id": "0d36a71d",
   "metadata": {},
   "source": [
    "### df.fillna using mean,median,mode,max,min,sum,count"
   ]
  },
  {
   "cell_type": "code",
   "execution_count": null,
   "id": "eaa92b9d",
   "metadata": {},
   "outputs": [],
   "source": [
    "mean = df1['Điểm Toán'].mean() # chỉ dùng cho columns chứa int,float\n",
    "print('mean:',mean)\n",
    "\n",
    "median = df1['Điểm Toán'].median() # chỉ dùng cho columns chứa int,float\n",
    "print('median:',median)"
   ]
  },
  {
   "cell_type": "code",
   "execution_count": null,
   "id": "0b9a296b",
   "metadata": {},
   "outputs": [],
   "source": [
    "print(df1)\n",
    "print('-'*100)\n",
    "\n",
    "mode = df1.mode() # giá trị xuất hiện nhiều nhất\n",
    "print('MODE:\\n',mode)\n",
    "print('-'*100)\n",
    "\n",
    "mode = df1['Điểm Toán'].mode() # nếu có nhiều value có chung số lần xuất hiện nhiều nhất thì liệt kê tất\n",
    "print(mode)\n",
    "print('-'*100)\n",
    "\n",
    "mode = df1['Điếm Văn'].mode() # nếu chỉ có 1 value có số lần xuất hiện nhiều nhất thì liệt kê 1\n",
    "print(mode)"
   ]
  },
  {
   "cell_type": "code",
   "execution_count": null,
   "id": "3f706551",
   "metadata": {},
   "outputs": [],
   "source": [
    "gtln = df1.max()\n",
    "print(gtln)"
   ]
  },
  {
   "cell_type": "code",
   "execution_count": null,
   "id": "dfa94f0b",
   "metadata": {},
   "outputs": [],
   "source": [
    "tong = df1.sum()\n",
    "print(tong)"
   ]
  },
  {
   "cell_type": "code",
   "execution_count": null,
   "id": "642336f8",
   "metadata": {
    "scrolled": true
   },
   "outputs": [],
   "source": [
    "soluong = df1.count()\n",
    "print(soluong)"
   ]
  },
  {
   "cell_type": "code",
   "execution_count": null,
   "id": "b31a1c56",
   "metadata": {},
   "outputs": [],
   "source": []
  }
 ],
 "metadata": {
  "kernelspec": {
   "display_name": "Python 3 (ipykernel)",
   "language": "python",
   "name": "python3"
  },
  "language_info": {
   "codemirror_mode": {
    "name": "ipython",
    "version": 3
   },
   "file_extension": ".py",
   "mimetype": "text/x-python",
   "name": "python",
   "nbconvert_exporter": "python",
   "pygments_lexer": "ipython3",
   "version": "3.11.5"
  }
 },
 "nbformat": 4,
 "nbformat_minor": 5
}
